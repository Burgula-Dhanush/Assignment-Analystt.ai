{
 "cells": [
  {
   "cell_type": "raw",
   "id": "2d537a08-594d-4ad3-bc5f-c2df76ce35bf",
   "metadata": {},
   "source": [
    "1. A developer is assigned a task to scrape 1 lakh website pages from a directory site, while scrapping he is facing such hcaptcha, which are placed to stop people from scrapping As a project Coordinator suggest ways to solve this problem"
   ]
  },
  {
   "cell_type": "raw",
   "id": "3b749a06-cdd7-4e50-8cf8-ad87909cdace",
   "metadata": {},
   "source": [
    "Dealing with CAPTCHAs like hCaptcha can be a challenge for web scraping projects, but there are several strategies you can use to work around them. Here are some suggestions for solving this problem as a project coordinator:\n",
    "\n",
    "i. Use Official APIs:\n",
    "If a website provides an official API, it's typically the most reliable and efficient way to access data without encountering CAPTCHAs. Verify if the site has a documented API and make use of it when possible.\n",
    "\n",
    "ii. Use CAPTCHA Solving Services:\n",
    "There are CAPTCHA-solving services that can help automate the process of solving CAPTCHAs, such as 2Captcha, Anti-Captcha, or DeathByCaptcha. Be aware that using these services might incur a cost and is often against the terms of service of many websites. It's essential to use them responsibly and legally.\n",
    "\n",
    "There are other things that we can do, such as\n",
    "\n",
    "iii. Crawl During Off-Peak Hours:\n",
    "Consider scheduling your scraping tasks during off-peak hours when servers are less busy.\n",
    "\n",
    "As a coordinator, I suggest the following solutions to the problems."
   ]
  },
  {
   "cell_type": "raw",
   "id": "c30f0ab2-07c3-4f82-bb89-71a6308ece7c",
   "metadata": {},
   "source": [
    " 2. Our client has around 10k linkedin people profiles, he wants to know the estimated income range of these profiles. Suggest ways on how to do this?"
   ]
  },
  {
   "cell_type": "raw",
   "id": "ea3316d5-94d6-41cc-a712-82b7a4f0c76a",
   "metadata": {},
   "source": [
    "Estimating the income range of LinkedIn profiles can be challenging, as LinkedIn does not provide specific income information. You have the option to make educated guesses based on specific criteria and data available on LinkedIn profiles. Here are some steps to help you estimate income ranges for your client's 10,000 LinkedIn profiles:\n",
    "\n",
    "First, as we don't have any clear data about the salaries of the employees, we need to collect data from which we can estimate their salaries. There are many factors that affect salaries, such as experience, job roles, and companies.\n",
    "\n",
    "Our next step is to search for surveys and reports, such as 'Salary Surveys and Reports', that offer data on the average salary for a job role and industry. These reports can be obtained from sources like the Bureau of Labor Statistics, Payscale, Glassdoor, or LinkedIn's Salary Insights.\r\n",
    "Then a predictive model can be built using a machine learning model and data analysis if we possess an extensive dataset of LinkedIn profiles that have known incomes or the collected dataset. Estimating income can be done using features such as job title, location, industry, education, and years of experience."
   ]
  },
  {
   "cell_type": "raw",
   "id": "2ffc6903-da1f-4492-88f2-41977aab0d13",
   "metadata": {},
   "source": [
    "3. We have a list of 1L company names, need to find linkedin company links of these profiles, how to go about this?"
   ]
  },
  {
   "cell_type": "raw",
   "id": "03b3afc7-25bd-444d-a2e4-1d98a5961e92",
   "metadata": {},
   "source": [
    "The optimal solution for extracting all company links or URLs is this:\n",
    "The LinkedIn Company URL Finder scraping tool extracts LinkedIn company page URLs and presents them in a neat, organized list, which is ready to be downloaded as structured data. Just feed it a company name or a list of companies you want to find on LinkedIn, and you get a list of URLs back. This tool is quick, simple, and affordable, and it makes this process fast and automatic!!"
   ]
  },
  {
   "cell_type": "raw",
   "id": "eaf4fa46-2e32-4b03-9eba-f74ab4b9e727",
   "metadata": {},
   "source": [
    "4. How to identify list of companies whose tech stack is built on Python. Give names of 5 companies if possible, by your suggested approach"
   ]
  },
  {
   "cell_type": "raw",
   "id": "1e715d3b-6b5b-4693-83bb-aff9a44e3f38",
   "metadata": {},
   "source": [
    "Identifying companies that incorporate Python into their tech stack can pose a challenge because most companies do not reveal their complete tech stack publicly. However, there are a few ways you can identify these companies:\n",
    "1.Job Listings and Career Pages:\n",
    "\n",
    "The technologies employed by companies are frequently mentioned in their job listings and career pages. Searching for job listings related to Python is possible on websites like LinkedIn, Indeed, or Glassdoor.\n",
    "\n",
    "2.Third-Party Tech Stack Databases:\n",
    "\n",
    "Some websites and platforms, such as StackShare or BuiltWith, maintain databases of tech stacks used by companies. These platforms can be helpful for understanding what technology companies are using, even if the information isn't always comprehensive or up-to-date.\n",
    "\n",
    "Here are five well-known companies where you might find Python-related job listings:\n",
    "Google\n",
    "Facebook (Meta)\n",
    "Netflix\n",
    "Amazon\n",
    "Dropbox\n",
    "\n",
    "These are some way to find the companies whose tech stack is bulit on Python."
   ]
  },
  {
   "cell_type": "raw",
   "id": "e5942249-fe49-47ab-8a22-64cfb1081eab",
   "metadata": {},
   "source": [
    "5. Need to find an API, through which we can send linkedin messages to other linkedin users"
   ]
  },
  {
   "cell_type": "raw",
   "id": "b854b738-2731-437c-a19f-773e5d9c3880",
   "metadata": {},
   "source": [
    "Obtaining the appropriate API permit and making an API request to the LinkedIn API endpoint is necessary to send a direct message to a person using the LinkedIn API. Using the LinkedIn API, messages can be sent through the /v2/message endpoint.\n",
    "\n",
    "This is a demonstration of sending a direct message to someone by using the LinkedIn API via the /v2/messages endpoint.\n",
    "\n",
    "Obtain API permissions: To use the LinkedIn API, you'll need to obtain the appropriate API permit. To achieve this, it is necessary to create a LinkedIn Developer Account and register your application.\n",
    "\n",
    "Authenticate the API request: To authenticate the API request, you'll need to use an access token. The LinkedIn API documentation provides instructions on how to obtain the access token through authentication.\n",
    "\n",
    "Send the API request: After obtaining the access token, you can send a POST request to the /v2/messages endpoint with the recipient's LinkedIn ID and the message text in the request body."
   ]
  },
  {
   "cell_type": "raw",
   "id": "352cbe39-5e39-4599-b893-a815c46e5a4a",
   "metadata": {},
   "source": [
    "import requests \n",
    "access_token = \"ACCESS_TOKEN\"  \n",
    "recipient_id = \"RECIPIENT_ID\"  \n",
    "message_text = \"Your message text here\" \n",
    "headers = { \n",
    "    \"Authorization\": f\"Bearer {access_token}\", \n",
    "    \"Content-Type\": \"application/json\" \n",
    "}  \n",
    "data = { \n",
    "    \"eventCreate\": { \n",
    "        \"value\": { \n",
    "            \"event\": { \n",
    "                \"type\": \"MESSAGE\", \n",
    "                \"message\": { \n",
    "                    \"text\": message_text \n",
    "                } \n",
    "            }, \n",
    "            \"recipients\": { \n",
    "                \"values\": [ \n",
    "                    { \n",
    "                        \"person\": { \n",
    "                            \"entityUrn\": f\"urn:li:person:{recipient_id}\" \n",
    "                        } \n",
    "                    } \n",
    "                ] \n",
    "            } \n",
    "        } \n",
    "    } \n",
    "}  \n",
    "response = requests.post(\"https://api.linkedin.com/v2/messages\", headers=headers, json=data) \n",
    "if response.status_code == 201: \n",
    "    print(\"Message sent successfully\") \n",
    "else: \n",
    "    print(\"Failed to send message\") \n",
    "    print(response.json()) "
   ]
  }
 ],
 "metadata": {
  "kernelspec": {
   "display_name": "Python 3 (ipykernel)",
   "language": "python",
   "name": "python3"
  },
  "language_info": {
   "codemirror_mode": {
    "name": "ipython",
    "version": 3
   },
   "file_extension": ".py",
   "mimetype": "text/x-python",
   "name": "python",
   "nbconvert_exporter": "python",
   "pygments_lexer": "ipython3",
   "version": "3.10.6"
  }
 },
 "nbformat": 4,
 "nbformat_minor": 5
}
